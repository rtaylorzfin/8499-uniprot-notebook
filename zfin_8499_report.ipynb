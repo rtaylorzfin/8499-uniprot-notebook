{
 "cells": [
  {
   "cell_type": "markdown",
   "metadata": {
    "id": "w0tuIuxiJwiL"
   },
   "source": [
    "# ZFIN-8499 Reports\n"
   ]
  },
  {
   "cell_type": "markdown",
   "metadata": {
    "id": "w0tuIuxiJwiL"
   },
   "source": [
    "# New Download File\n",
    "\n",
    "UniProt has released 2023_01, the first release of 2023. We are expecting this to reflect the changes from our previews in ZFIN-8376 which included a to_keep.csv file and to_delete.csv file.\n",
    "\n",
    "As a first step, I ran our preload which downloads from https://ftp.expasy.org/databases/uniprot/current_release/knowledgebase/taxonomic_divisions/ and filters for zebrafish records and puts them in pre_zfin.dat.\n",
    "\n",
    "To compare the to_keep.csv from before and the pre_zfin.dat files, I pulled just the uniprot IDs from each file and put them in the db.sqlite file in tables named \"to_keep_ids\" and \"pre_zfin_ids\" respectively.\n"
   ]
  },
  {
   "cell_type": "markdown",
   "metadata": {
    "id": "w0tuIuxiJwiL"
   },
   "source": [
    "# Preface \n",
    "\n",
    "## Section A: Comparisons\n",
    "\n",
    "### i) pre_zfin count\n",
    "pre_zfin has 52,331 unique uniprot IDs.\n",
    "\n",
    "### ii) to_keep count\n",
    "to_keep has 51,823 unique uniprot IDs\n",
    "\n",
    "### iii) IDs in pre_zfin, but not in to_keep\n",
    "There are 3,331\n",
    "\n",
    "### iv) IDs in to_keep, but not in pre_zfin\n",
    "There are 2,823\n",
    "\n"
   ]
  },
  {
   "cell_type": "markdown",
   "metadata": {},
   "source": [
    "## Next Steps\n",
    "\n",
    "import tables from 8395 report and generate the same reports for the new data"
   ]
  },
  {
   "cell_type": "markdown",
   "metadata": {
    "id": "w0tuIuxiJwiL",
    "jp-MarkdownHeadingCollapsed": true,
    "tags": []
   },
   "source": [
    "# Queries supporting these results\n"
   ]
  },
  {
   "cell_type": "markdown",
   "metadata": {
    "id": "zt1m7U60ku4Q",
    "jp-MarkdownHeadingCollapsed": true,
    "tags": []
   },
   "source": [
    "## Initialize Database"
   ]
  },
  {
   "cell_type": "code",
   "execution_count": 1,
   "metadata": {
    "colab": {
     "base_uri": "https://localhost:8080/"
    },
    "id": "xTyDfQIZU6t8",
    "outputId": "47aa42df-0154-4284-d900-054ae3a55d21",
    "tags": []
   },
   "outputs": [],
   "source": [
    "!cp inputs/db.sqlite ."
   ]
  },
  {
   "cell_type": "code",
   "execution_count": 2,
   "metadata": {
    "id": "9eo6Iu2YSa_9"
   },
   "outputs": [],
   "source": [
    "%reload_ext sql\n"
   ]
  },
  {
   "cell_type": "code",
   "execution_count": 3,
   "metadata": {
    "colab": {
     "base_uri": "https://localhost:8080/",
     "height": 35
    },
    "id": "qom2UPNgSTea",
    "outputId": "4ce18d75-7d57-4888-f330-359ad54e116c"
   },
   "outputs": [],
   "source": [
    "%%sql\n",
    "sqlite:///db.sqlite"
   ]
  },
  {
   "cell_type": "markdown",
   "metadata": {
    "id": "kdXECnAGk_rO",
    "tags": []
   },
   "source": [
    "## Database Queries"
   ]
  },
  {
   "cell_type": "markdown",
   "metadata": {
    "id": "kdXECnAGk_rO",
    "tags": []
   },
   "source": [
    "### Ai"
   ]
  },
  {
   "cell_type": "code",
   "execution_count": 4,
   "metadata": {
    "colab": {
     "base_uri": "https://localhost:8080/"
    },
    "id": "Fq3N1Gf8UgCh",
    "outputId": "30afd81b-e9f1-4acb-a367-35107fd78293"
   },
   "outputs": [
    {
     "name": "stdout",
     "output_type": "stream",
     "text": [
      " * sqlite:///db.sqlite\n",
      "Done.\n"
     ]
    },
    {
     "data": {
      "text/html": [
       "<table>\n",
       "    <tr>\n",
       "        <th>count(distinct id)</th>\n",
       "    </tr>\n",
       "    <tr>\n",
       "        <td>52331</td>\n",
       "    </tr>\n",
       "</table>"
      ],
      "text/plain": [
       "[(52331,)]"
      ]
     },
     "execution_count": 4,
     "metadata": {},
     "output_type": "execute_result"
    }
   ],
   "source": [
    "%%sql\n",
    "\n",
    "select count(distinct id) from pre_zfin_ids;"
   ]
  },
  {
   "cell_type": "markdown",
   "metadata": {
    "id": "kdXECnAGk_rO",
    "tags": []
   },
   "source": [
    "### Aii"
   ]
  },
  {
   "cell_type": "code",
   "execution_count": 5,
   "metadata": {
    "colab": {
     "base_uri": "https://localhost:8080/"
    },
    "id": "Fq3N1Gf8UgCh",
    "outputId": "30afd81b-e9f1-4acb-a367-35107fd78293"
   },
   "outputs": [
    {
     "name": "stdout",
     "output_type": "stream",
     "text": [
      " * sqlite:///db.sqlite\n",
      "Done.\n"
     ]
    },
    {
     "data": {
      "text/html": [
       "<table>\n",
       "    <tr>\n",
       "        <th>count(distinct id)</th>\n",
       "    </tr>\n",
       "    <tr>\n",
       "        <td>51823</td>\n",
       "    </tr>\n",
       "</table>"
      ],
      "text/plain": [
       "[(51823,)]"
      ]
     },
     "execution_count": 5,
     "metadata": {},
     "output_type": "execute_result"
    }
   ],
   "source": [
    "%%sql\n",
    "\n",
    "select count(distinct id) from to_keep_ids;"
   ]
  },
  {
   "cell_type": "markdown",
   "metadata": {
    "id": "kdXECnAGk_rO",
    "tags": []
   },
   "source": [
    "### Aiii"
   ]
  },
  {
   "cell_type": "code",
   "execution_count": 6,
   "metadata": {},
   "outputs": [
    {
     "name": "stdout",
     "output_type": "stream",
     "text": [
      " * sqlite:///db.sqlite\n",
      "Done.\n",
      "Done.\n"
     ]
    },
    {
     "data": {
      "text/html": [
       "<table>\n",
       "    <tr>\n",
       "        <th>count(*)</th>\n",
       "    </tr>\n",
       "    <tr>\n",
       "        <td>3331</td>\n",
       "    </tr>\n",
       "</table>"
      ],
      "text/plain": [
       "[(3331,)]"
      ]
     },
     "execution_count": 6,
     "metadata": {},
     "output_type": "execute_result"
    }
   ],
   "source": [
    "%%sql\n",
    "\n",
    "create table \"Aiii\" as \n",
    "select * from pre_zfin_ids where id not in (select * from to_keep_ids);\n",
    "select count(*) from Aiii;\n"
   ]
  },
  {
   "cell_type": "markdown",
   "metadata": {
    "id": "kdXECnAGk_rO",
    "tags": []
   },
   "source": [
    "### Aiv"
   ]
  },
  {
   "cell_type": "code",
   "execution_count": 7,
   "metadata": {},
   "outputs": [
    {
     "name": "stdout",
     "output_type": "stream",
     "text": [
      " * sqlite:///db.sqlite\n",
      "Done.\n",
      "Done.\n"
     ]
    },
    {
     "data": {
      "text/html": [
       "<table>\n",
       "    <tr>\n",
       "        <th>count(*)</th>\n",
       "    </tr>\n",
       "    <tr>\n",
       "        <td>2823</td>\n",
       "    </tr>\n",
       "</table>"
      ],
      "text/plain": [
       "[(2823,)]"
      ]
     },
     "execution_count": 7,
     "metadata": {},
     "output_type": "execute_result"
    }
   ],
   "source": [
    "%%sql\n",
    "\n",
    "create table \"Aiv\" as\n",
    "select * from to_keep_ids where id not in (select * from pre_zfin_ids);\n",
    "select count(*) from Aiv;"
   ]
  },
  {
   "cell_type": "markdown",
   "metadata": {
    "id": "ntXxYCHtxvf3",
    "jp-MarkdownHeadingCollapsed": true,
    "tags": []
   },
   "source": [
    "# Export Excel Spreadsheet\n",
    "\n"
   ]
  },
  {
   "cell_type": "code",
   "execution_count": 8,
   "metadata": {
    "id": "m4OQhvxYta5S"
   },
   "outputs": [],
   "source": [
    "import sqlite3\n",
    "import pandas as pd\n",
    "\n",
    "def main():\n",
    "\n",
    "    tables = ['pre_zfin_ids', 'to_keep_ids', 'Aiii', 'Aiv']\n",
    "\n",
    "    # Create a Pandas Excel writer using the openpyxl engine\n",
    "    writer = pd.ExcelWriter('Notes.xlsx', engine='openpyxl')\n",
    "\n",
    "    # Loop over the CSV files\n",
    "    for i, table in enumerate(tables):\n",
    "      # Read the CSV file\n",
    "      df = get_table_rows_as_data_frame(table)\n",
    "\n",
    "      # Write the dataframe to a sheet in the Excel file\n",
    "      df.to_excel(writer, table, index=False)\n",
    "\n",
    "    writer.close()\n",
    "\n",
    "\n",
    "def get_table_rows_as_data_frame(tablename):\n",
    "    # Connect to the database\n",
    "    conn = sqlite3.connect('db.sqlite')\n",
    "\n",
    "    # Create a cursor\n",
    "    cursor = conn.cursor()\n",
    "    cursor.execute('SELECT * FROM \"' + tablename + '\"')\n",
    "    results = cursor.fetchall()\n",
    "\n",
    "    column_names = [description[0] for description in cursor.description]\n",
    "\n",
    "    # Convert the results to a Pandas DataFrame\n",
    "    df = pd.DataFrame(results, columns=column_names)\n",
    "\n",
    "    cursor.close()\n",
    "    conn.close()\n",
    "\n",
    "    return df\n",
    "\n",
    "main()\n",
    "\n"
   ]
  },
  {
   "cell_type": "code",
   "execution_count": null,
   "metadata": {},
   "outputs": [],
   "source": []
  }
 ],
 "metadata": {
  "colab": {
   "collapsed_sections": [
    "kdXECnAGk_rO",
    "eH0CjARGO6y2"
   ],
   "provenance": []
  },
  "kernelspec": {
   "display_name": "Python 3 (ipykernel)",
   "language": "python",
   "name": "python3"
  },
  "language_info": {
   "codemirror_mode": {
    "name": "ipython",
    "version": 3
   },
   "file_extension": ".py",
   "mimetype": "text/x-python",
   "name": "python",
   "nbconvert_exporter": "python",
   "pygments_lexer": "ipython3",
   "version": "3.10.9"
  }
 },
 "nbformat": 4,
 "nbformat_minor": 4
}
