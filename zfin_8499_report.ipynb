{
 "cells": [
  {
   "cell_type": "markdown",
   "metadata": {
    "id": "w0tuIuxiJwiL"
   },
   "source": [
    "# ZFIN-8499 Reports\n"
   ]
  },
  {
   "cell_type": "markdown",
   "metadata": {
    "id": "w0tuIuxiJwiL"
   },
   "source": [
    "# New Download File\n",
    "\n",
    "UniProt has released 2023_01, the first release of 2023. We are expecting this to reflect the changes from our previews in ZFIN-8376 which included a to_keep.csv file and to_delete.csv file.\n",
    "\n",
    "As a first step, I ran our preload which downloads from https://ftp.expasy.org/databases/uniprot/current_release/knowledgebase/taxonomic_divisions/ and filters for zebrafish records and puts them in pre_zfin.dat.\n",
    "\n",
    "To compare the to_keep.csv from before and the pre_zfin.dat files, I pulled just the uniprot IDs from each file and put them in the db.sqlite file in tables named \"to_keep_ids\" and \"pre_zfin_ids\" respectively.\n"
   ]
  },
  {
   "cell_type": "markdown",
   "metadata": {
    "id": "w0tuIuxiJwiL"
   },
   "source": [
    "# Preface \n",
    "\n",
    "## Section A: Comparisons\n",
    "\n",
    "### i) pre_zfin count\n",
    "pre_zfin has 52,331 unique uniprot IDs.\n",
    "\n",
    "### ii) to_keep count\n",
    "to_keep has 51,823 unique uniprot IDs\n",
    "\n",
    "### iii) IDs in pre_zfin, but not in to_keep\n",
    "There are 3,331\n",
    "\n",
    "### iv) IDs in to_keep, but not in pre_zfin\n",
    "There are 2,823\n",
    "\n"
   ]
  },
  {
   "cell_type": "markdown",
   "metadata": {},
   "source": [
    "## Next Steps\n",
    "\n",
    "- Import tables from 8395 report and generate the same reports for the new data\n",
    "- Convert pre_zfin.dat file to same format as to_keep.csv\n"
   ]
  },
  {
   "cell_type": "markdown",
   "metadata": {
    "id": "w0tuIuxiJwiL",
    "tags": []
   },
   "source": [
    "# Queries supporting these results\n"
   ]
  },
  {
   "cell_type": "markdown",
   "metadata": {
    "id": "zt1m7U60ku4Q",
    "jp-MarkdownHeadingCollapsed": true,
    "tags": []
   },
   "source": [
    "## Initialize Database"
   ]
  },
  {
   "cell_type": "code",
   "execution_count": 1,
   "metadata": {
    "colab": {
     "base_uri": "https://localhost:8080/"
    },
    "id": "xTyDfQIZU6t8",
    "outputId": "47aa42df-0154-4284-d900-054ae3a55d21",
    "tags": []
   },
   "outputs": [],
   "source": [
    "!cp inputs/db.sqlite ."
   ]
  },
  {
   "cell_type": "code",
   "execution_count": 2,
   "metadata": {
    "id": "9eo6Iu2YSa_9"
   },
   "outputs": [],
   "source": [
    "%reload_ext sql\n"
   ]
  },
  {
   "cell_type": "code",
   "execution_count": 3,
   "metadata": {
    "colab": {
     "base_uri": "https://localhost:8080/",
     "height": 35
    },
    "id": "qom2UPNgSTea",
    "outputId": "4ce18d75-7d57-4888-f330-359ad54e116c"
   },
   "outputs": [],
   "source": [
    "%%sql\n",
    "sqlite:///db.sqlite"
   ]
  },
  {
   "cell_type": "markdown",
   "metadata": {
    "id": "kdXECnAGk_rO",
    "tags": []
   },
   "source": [
    "## Database Queries"
   ]
  },
  {
   "cell_type": "markdown",
   "metadata": {
    "id": "kdXECnAGk_rO",
    "tags": []
   },
   "source": [
    "### Ai"
   ]
  },
  {
   "cell_type": "code",
   "execution_count": 4,
   "metadata": {
    "colab": {
     "base_uri": "https://localhost:8080/"
    },
    "id": "Fq3N1Gf8UgCh",
    "outputId": "30afd81b-e9f1-4acb-a367-35107fd78293"
   },
   "outputs": [
    {
     "name": "stdout",
     "output_type": "stream",
     "text": [
      " * sqlite:///db.sqlite\n",
      "Done.\n"
     ]
    },
    {
     "data": {
      "text/html": [
       "<table>\n",
       "    <tr>\n",
       "        <th>count(distinct id)</th>\n",
       "    </tr>\n",
       "    <tr>\n",
       "        <td>52331</td>\n",
       "    </tr>\n",
       "</table>"
      ],
      "text/plain": [
       "[(52331,)]"
      ]
     },
     "execution_count": 4,
     "metadata": {},
     "output_type": "execute_result"
    }
   ],
   "source": [
    "%%sql\n",
    "\n",
    "select count(distinct id) from pre_zfin_ids;"
   ]
  },
  {
   "cell_type": "markdown",
   "metadata": {
    "id": "kdXECnAGk_rO",
    "tags": []
   },
   "source": [
    "### Aii"
   ]
  },
  {
   "cell_type": "code",
   "execution_count": 5,
   "metadata": {
    "colab": {
     "base_uri": "https://localhost:8080/"
    },
    "id": "Fq3N1Gf8UgCh",
    "outputId": "30afd81b-e9f1-4acb-a367-35107fd78293"
   },
   "outputs": [
    {
     "name": "stdout",
     "output_type": "stream",
     "text": [
      " * sqlite:///db.sqlite\n",
      "Done.\n"
     ]
    },
    {
     "data": {
      "text/html": [
       "<table>\n",
       "    <tr>\n",
       "        <th>count(distinct id)</th>\n",
       "    </tr>\n",
       "    <tr>\n",
       "        <td>51823</td>\n",
       "    </tr>\n",
       "</table>"
      ],
      "text/plain": [
       "[(51823,)]"
      ]
     },
     "execution_count": 5,
     "metadata": {},
     "output_type": "execute_result"
    }
   ],
   "source": [
    "%%sql\n",
    "\n",
    "select count(distinct id) from to_keep_ids;"
   ]
  },
  {
   "cell_type": "markdown",
   "metadata": {
    "id": "kdXECnAGk_rO",
    "tags": []
   },
   "source": [
    "### Aiii"
   ]
  },
  {
   "cell_type": "code",
   "execution_count": 6,
   "metadata": {},
   "outputs": [
    {
     "name": "stdout",
     "output_type": "stream",
     "text": [
      " * sqlite:///db.sqlite\n",
      "Done.\n",
      "Done.\n"
     ]
    },
    {
     "data": {
      "text/html": [
       "<table>\n",
       "    <tr>\n",
       "        <th>count(*)</th>\n",
       "    </tr>\n",
       "    <tr>\n",
       "        <td>3331</td>\n",
       "    </tr>\n",
       "</table>"
      ],
      "text/plain": [
       "[(3331,)]"
      ]
     },
     "execution_count": 6,
     "metadata": {},
     "output_type": "execute_result"
    }
   ],
   "source": [
    "%%sql\n",
    "\n",
    "create table \"Aiii\" as \n",
    "select * from pre_zfin_ids where id not in (select * from to_keep_ids);\n",
    "select count(*) from Aiii;\n"
   ]
  },
  {
   "cell_type": "markdown",
   "metadata": {
    "id": "kdXECnAGk_rO",
    "tags": []
   },
   "source": [
    "### Aiv"
   ]
  },
  {
   "cell_type": "code",
   "execution_count": 7,
   "metadata": {},
   "outputs": [
    {
     "name": "stdout",
     "output_type": "stream",
     "text": [
      " * sqlite:///db.sqlite\n",
      "Done.\n",
      "Done.\n"
     ]
    },
    {
     "data": {
      "text/html": [
       "<table>\n",
       "    <tr>\n",
       "        <th>count(*)</th>\n",
       "    </tr>\n",
       "    <tr>\n",
       "        <td>2823</td>\n",
       "    </tr>\n",
       "</table>"
      ],
      "text/plain": [
       "[(2823,)]"
      ]
     },
     "execution_count": 7,
     "metadata": {},
     "output_type": "execute_result"
    }
   ],
   "source": [
    "%%sql\n",
    "\n",
    "create table \"Aiv\" as\n",
    "select * from to_keep_ids where id not in (select * from pre_zfin_ids);\n",
    "select count(*) from Aiv;"
   ]
  },
  {
   "cell_type": "markdown",
   "metadata": {},
   "source": [
    "## Reports from 8395\n"
   ]
  },
  {
   "cell_type": "code",
   "execution_count": 9,
   "metadata": {},
   "outputs": [
    {
     "name": "stdout",
     "output_type": "stream",
     "text": [
      "  % Total    % Received % Xferd  Average Speed   Time    Time     Time  Current\n",
      "                                 Dload  Upload   Total   Spent    Left  Speed\n",
      "  0     0    0     0    0     0      0      0 --:--:-- --:--:-- --:--:--     0\n",
      "100 24.3M  100 24.3M    0     0  25.2M      0 --:--:-- --:--:-- --:--:-- 46.9M\n"
     ]
    }
   ],
   "source": [
    "!rm -f zfin-db-slice.db\n",
    "!curl -L -o zfin-db-slice.db.gz https://github.com/rtaylorzfin/8395-uniprot-notebook/raw/main/db/zfin-db-slice.db.gz\n",
    "!gunzip -f zfin-db-slice.db.gz"
   ]
  },
  {
   "cell_type": "code",
   "execution_count": null,
   "metadata": {},
   "outputs": [],
   "source": [
    "%reload_ext sql"
   ]
  },
  {
   "cell_type": "code",
   "execution_count": null,
   "metadata": {},
   "outputs": [],
   "source": [
    "%%sql\n",
    "sqlite:///zfin-db-slice.db"
   ]
  },
  {
   "cell_type": "markdown",
   "metadata": {
    "id": "kdXECnAGk_rO",
    "tags": []
   },
   "source": [
    "## Database Queries"
   ]
  },
  {
   "cell_type": "markdown",
   "metadata": {
    "id": "oRoKxkfwlNy6"
   },
   "source": [
    "Create a copy of to_keep for modifying"
   ]
  },
  {
   "cell_type": "code",
   "execution_count": 4,
   "metadata": {
    "colab": {
     "base_uri": "https://localhost:8080/"
    },
    "id": "Fq3N1Gf8UgCh",
    "outputId": "30afd81b-e9f1-4acb-a367-35107fd78293"
   },
   "outputs": [
    {
     "name": "stdout",
     "output_type": "stream",
     "text": [
      " * sqlite:///zfin-db-slice.db\n",
      "Done.\n",
      "62344 rows affected.\n",
      "62344 rows affected.\n",
      "Done.\n",
      "Done.\n",
      "45704 rows affected.\n",
      "55485 rows affected.\n"
     ]
    },
    {
     "data": {
      "text/plain": [
       "[]"
      ]
     },
     "execution_count": 4,
     "metadata": {},
     "output_type": "execute_result"
    }
   ],
   "source": [
    "%%sql\n",
    "\n",
    "-- create copy of to_keep from uniprot\n",
    "create table to_keep_m as select * from to_keep;\n",
    "\n",
    "-- Remove the version from the refseq numbers:\n",
    "update to_keep_m set primary_id = substr(primary_id, 0, LENGTH(rtrim(primary_id, '0123456789'))) where database = 'RefSeq' and primary_id like '%.%';\n",
    "update to_keep_m set secondary_id = substr(secondary_id, 0, LENGTH(rtrim(secondary_id, '0123456789'))) where database = 'RefSeq' and secondary_id like '%.%';\n",
    "create index primary_id_key on to_keep_m (primary_id);\n",
    "create index secondary_id_key on to_keep_m (secondary_id);\n",
    "\n",
    "-- Remove the version from ensdarg in uniprot2ensembl\n",
    "update uniprot2ensembl set ensdarg = substr(ensdarg, 0, LENGTH(rtrim(ensdarg, '0123456789'))) where ensdarg like '%.%';\n",
    "\n",
    "-- Remove the version from refseq in refseq2ncbi\n",
    "update refseq2ncbi set refseq = substr(refseq, 0, LENGTH(rtrim(refseq, '0123456789'))) where refseq like '%.%';\n"
   ]
  },
  {
   "cell_type": "code",
   "execution_count": 5,
   "metadata": {
    "colab": {
     "base_uri": "https://localhost:8080/"
    },
    "id": "FINUWB0vRJZb",
    "outputId": "5bfc6f47-b31f-42e0-bdff-aa15515bf7fb"
   },
   "outputs": [
    {
     "name": "stdout",
     "output_type": "stream",
     "text": [
      " * sqlite:///zfin-db-slice.db\n",
      "Done.\n"
     ]
    },
    {
     "data": {
      "text/plain": [
       "[]"
      ]
     },
     "execution_count": 5,
     "metadata": {},
     "output_type": "execute_result"
    }
   ],
   "source": [
    "%%sql\n",
    "\n",
    "-- Move the comma delimited dbXrefs from the ncbi_map table to its own table for ease of querying\n",
    "-- See: https://stackoverflow.com/questions/51571854/how-to-split-comma-delimited-values-into-multiple-rows-using-sqlite\n",
    "create table ncbi_xrefs as\n",
    "WITH RECURSIVE split(id, value, rest) AS (\n",
    "   SELECT GeneID, '', dbXrefs || '|' FROM ncbi_map\n",
    "   UNION ALL SELECT\n",
    "   id,\n",
    "   substr(rest, 0, instr(rest, '|')),\n",
    "   substr(rest, instr(rest, '|')+1)\n",
    "   FROM split WHERE rest!=''\n",
    ")\n",
    "SELECT id, value\n",
    "FROM split\n",
    "WHERE value!='';"
   ]
  },
  {
   "cell_type": "code",
   "execution_count": 6,
   "metadata": {
    "colab": {
     "base_uri": "https://localhost:8080/"
    },
    "collapsed": true,
    "id": "BHs3KhQ2TW5i",
    "jupyter": {
     "outputs_hidden": true
    },
    "outputId": "2a7db6c5-faf0-4374-a3e9-df2a9744eb4b",
    "tags": []
   },
   "outputs": [
    {
     "name": "stdout",
     "output_type": "stream",
     "text": [
      " * sqlite:///zfin-db-slice.db\n",
      "Done.\n",
      "Done.\n",
      "90831 rows affected.\n",
      "90831 rows affected.\n"
     ]
    },
    {
     "data": {
      "text/plain": [
       "[]"
      ]
     },
     "execution_count": 6,
     "metadata": {},
     "output_type": "execute_result"
    }
   ],
   "source": [
    "%%sql\n",
    "\n",
    "-- Move the comma delimited dbXrefs from the ncbi_map table to its own table for ease of querying\n",
    "-- See: https://stackoverflow.com/questions/51571854/how-to-split-comma-delimited-values-into-multiple-rows-using-sqlite\n",
    "drop table if exists xrefs;\n",
    "create table xrefs as\n",
    "WITH RECURSIVE split(GeneID, dbXrefs, rest) AS (\n",
    "   SELECT GeneID, '', dbXrefs || '|' FROM ncbi_map\n",
    "   UNION ALL SELECT\n",
    "   GeneID,\n",
    "   substr(rest, 0, instr(rest, '|')),\n",
    "   substr(rest, instr(rest, '|')+1)\n",
    "   FROM split WHERE rest!=''\n",
    ")\n",
    "SELECT GeneID, dbXrefs, '' as org, '' as acc\n",
    "FROM split\n",
    "WHERE dbXrefs!='';\n",
    "\n",
    "-- separate the organization and the accession into columns\n",
    "update xrefs set acc = replace(dbXrefs, rtrim(dbXrefs, replace(dbXrefs, ':', '')), '');\n",
    "update xrefs set org = substr(dbXrefs, 0, INSTR(dbXrefs, acc) - 1);\n"
   ]
  },
  {
   "cell_type": "markdown",
   "metadata": {
    "id": "Ip_QnNkaP2Sk",
    "jupyter": {
     "source_hidden": true
    },
    "tags": []
   },
   "source": [
    "## Section 1 Queries\n",
    "\n"
   ]
  },
  {
   "cell_type": "markdown",
   "metadata": {
    "id": "ntXxYCHtxvf3",
    "tags": []
   },
   "source": [
    "# Export Excel Spreadsheet\n",
    "\n"
   ]
  },
  {
   "cell_type": "code",
   "execution_count": 1,
   "metadata": {
    "id": "m4OQhvxYta5S"
   },
   "outputs": [],
   "source": [
    "import sqlite3\n",
    "import pandas as pd\n",
    "\n",
    "def main():\n",
    "\n",
    "    tables = ['pre_zfin_ids', 'to_keep_ids', 'Aiii', 'Aiv']\n",
    "\n",
    "    # Create a Pandas Excel writer using the openpyxl engine\n",
    "    writer = pd.ExcelWriter('zfin_8499_report data.xlsx', engine='openpyxl')\n",
    "\n",
    "    # Loop over the CSV files\n",
    "    for i, table in enumerate(tables):\n",
    "      # Read the CSV file\n",
    "      df = get_table_rows_as_data_frame(table)\n",
    "\n",
    "      # Write the dataframe to a sheet in the Excel file\n",
    "      df.to_excel(writer, table, index=False)\n",
    "\n",
    "    writer.close()\n",
    "\n",
    "\n",
    "def get_table_rows_as_data_frame(tablename):\n",
    "    # Connect to the database\n",
    "    conn = sqlite3.connect('db.sqlite')\n",
    "\n",
    "    # Create a cursor\n",
    "    cursor = conn.cursor()\n",
    "    cursor.execute('SELECT * FROM \"' + tablename + '\"')\n",
    "    results = cursor.fetchall()\n",
    "\n",
    "    column_names = [description[0] for description in cursor.description]\n",
    "\n",
    "    # Convert the results to a Pandas DataFrame\n",
    "    df = pd.DataFrame(results, columns=column_names)\n",
    "\n",
    "    cursor.close()\n",
    "    conn.close()\n",
    "\n",
    "    return df\n",
    "\n",
    "main()\n",
    "\n"
   ]
  },
  {
   "cell_type": "code",
   "execution_count": null,
   "metadata": {},
   "outputs": [],
   "source": []
  }
 ],
 "metadata": {
  "colab": {
   "collapsed_sections": [
    "kdXECnAGk_rO",
    "eH0CjARGO6y2"
   ],
   "provenance": []
  },
  "kernelspec": {
   "display_name": "Python 3 (ipykernel)",
   "language": "python",
   "name": "python3"
  },
  "language_info": {
   "codemirror_mode": {
    "name": "ipython",
    "version": 3
   },
   "file_extension": ".py",
   "mimetype": "text/x-python",
   "name": "python",
   "nbconvert_exporter": "python",
   "pygments_lexer": "ipython3",
   "version": "3.10.9"
  }
 },
 "nbformat": 4,
 "nbformat_minor": 4
}
